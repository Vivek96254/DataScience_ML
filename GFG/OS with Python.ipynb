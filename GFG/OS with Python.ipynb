{
 "cells": [
  {
   "cell_type": "code",
   "execution_count": 1,
   "id": "d03d1582",
   "metadata": {},
   "outputs": [],
   "source": [
    "import os"
   ]
  },
  {
   "cell_type": "code",
   "execution_count": 2,
   "id": "a9ccfbf4",
   "metadata": {},
   "outputs": [
    {
     "data": {
      "text/plain": [
       "'C:\\\\Users\\\\lucif\\\\GFG'"
      ]
     },
     "execution_count": 2,
     "metadata": {},
     "output_type": "execute_result"
    }
   ],
   "source": [
    "os.getcwd()"
   ]
  },
  {
   "cell_type": "code",
   "execution_count": 3,
   "id": "bdd5f33f",
   "metadata": {},
   "outputs": [
    {
     "data": {
      "text/plain": [
       "'C:\\\\Users\\\\lucif\\\\GFG'"
      ]
     },
     "execution_count": 3,
     "metadata": {},
     "output_type": "execute_result"
    }
   ],
   "source": [
    "pwd"
   ]
  },
  {
   "cell_type": "code",
   "execution_count": 4,
   "id": "5cf6cdfb",
   "metadata": {},
   "outputs": [
    {
     "name": "stdout",
     "output_type": "stream",
     "text": [
      "C:\\Users\\lucif\\GFG\n"
     ]
    }
   ],
   "source": [
    "print(os.getcwd())"
   ]
  },
  {
   "cell_type": "code",
   "execution_count": 6,
   "id": "6b14af48",
   "metadata": {},
   "outputs": [],
   "source": [
    "os.mkdir(\"Help\")"
   ]
  },
  {
   "cell_type": "code",
   "execution_count": 5,
   "id": "32c45e90",
   "metadata": {},
   "outputs": [],
   "source": [
    "os.chdir(\"C:\\\\Users\\\\lucif\")"
   ]
  },
  {
   "cell_type": "code",
   "execution_count": 6,
   "id": "7a77ddcb",
   "metadata": {},
   "outputs": [
    {
     "data": {
      "text/plain": [
       "'C:\\\\Users\\\\lucif'"
      ]
     },
     "execution_count": 6,
     "metadata": {},
     "output_type": "execute_result"
    }
   ],
   "source": [
    "pwd"
   ]
  },
  {
   "cell_type": "code",
   "execution_count": 14,
   "id": "c05acbc1",
   "metadata": {},
   "outputs": [],
   "source": [
    "os.makedirs(\"Help/Help/Help\")"
   ]
  },
  {
   "cell_type": "code",
   "execution_count": 16,
   "id": "456d77fa",
   "metadata": {},
   "outputs": [
    {
     "data": {
      "text/plain": [
       "'GFG\\\\fdfs'"
      ]
     },
     "execution_count": 16,
     "metadata": {},
     "output_type": "execute_result"
    }
   ],
   "source": [
    "os.path.join(\"GFG\",\"fdfs\") #Useless"
   ]
  },
  {
   "cell_type": "markdown",
   "id": "a9f0f89b",
   "metadata": {},
   "source": [
    "## List Directories"
   ]
  },
  {
   "cell_type": "code",
   "execution_count": 7,
   "id": "71b77d24",
   "metadata": {},
   "outputs": [
    {
     "name": "stdout",
     "output_type": "stream",
     "text": [
      " Volume in drive C has no label.\n",
      " Volume Serial Number is 16B0-F32F\n",
      "\n",
      " Directory of C:\\Users\\lucif\n",
      "\n",
      "16-06-2024  15:14    <DIR>          .\n",
      "11-06-2024  11:59    <DIR>          ..\n",
      "21-05-2024  06:14    <DIR>          .android\n",
      "11-02-2024  01:19               194 .gitconfig\n",
      "08-06-2024  10:27    <DIR>          .ipynb_checkpoints\n",
      "04-02-2024  00:06    <DIR>          .ipython\n",
      "08-02-2024  11:12    <DIR>          .jupyter\n",
      "04-02-2024  00:08    <DIR>          .matplotlib\n",
      "07-05-2024  11:45               176 .packettracer\n",
      "31-01-2024  21:32    <DIR>          .vscode\n",
      "02-02-2024  21:34    <DIR>          anaconda3\n",
      "30-01-2024  02:52    <DIR>          ansel\n",
      "07-05-2024  12:41    <DIR>          Cisco Packet Tracer 8.2.1\n",
      "29-01-2024  21:10    <DIR>          Contacts\n",
      "29-01-2024  21:16    <DIR>          Documents\n",
      "14-06-2024  23:02    <DIR>          Downloads\n",
      "29-01-2024  21:10    <DIR>          Favorites\n",
      "16-06-2024  15:22    <DIR>          GFG\n",
      "16-06-2024  15:23    <DIR>          Help\n",
      "02-02-2024  11:13    <DIR>          IdeaProjects\n",
      "29-01-2024  21:10    <DIR>          Links\n",
      "29-01-2024  21:10    <DIR>          Music\n",
      "16-02-2024  21:25    <DIR>          OneDrive\n",
      "01-06-2024  21:35    <DIR>          Python\n",
      "04-02-2024  18:29    <DIR>          Saved Games\n",
      "30-01-2024  20:48    <DIR>          Searches\n",
      "08-06-2024  10:27                72 Untitled.ipynb\n",
      "10-05-2024  22:30    <DIR>          Videos\n",
      "               3 File(s)            442 bytes\n",
      "              25 Dir(s)  76,340,355,072 bytes free\n"
     ]
    }
   ],
   "source": [
    "ls"
   ]
  },
  {
   "cell_type": "code",
   "execution_count": 8,
   "id": "422ce944",
   "metadata": {},
   "outputs": [
    {
     "data": {
      "text/plain": [
       "'C:\\\\Users\\\\lucif'"
      ]
     },
     "execution_count": 8,
     "metadata": {},
     "output_type": "execute_result"
    }
   ],
   "source": [
    "os.getcwd()"
   ]
  },
  {
   "cell_type": "code",
   "execution_count": 21,
   "id": "e05e3ce4",
   "metadata": {},
   "outputs": [],
   "source": [
    "os.rmdir('Help')"
   ]
  },
  {
   "cell_type": "code",
   "execution_count": 23,
   "id": "2fa3c696",
   "metadata": {},
   "outputs": [],
   "source": [
    "os.makedirs(\"Help/Help/Help\")"
   ]
  },
  {
   "cell_type": "code",
   "execution_count": 9,
   "id": "c3a53b9c",
   "metadata": {},
   "outputs": [
    {
     "data": {
      "text/plain": [
       "['.android',\n",
       " '.gitconfig',\n",
       " '.ipynb_checkpoints',\n",
       " '.ipython',\n",
       " '.jupyter',\n",
       " '.matplotlib',\n",
       " '.packettracer',\n",
       " '.vscode',\n",
       " 'anaconda3',\n",
       " 'ansel',\n",
       " 'AppData',\n",
       " 'Application Data',\n",
       " 'Cisco Packet Tracer 8.2.1',\n",
       " 'Contacts',\n",
       " 'Cookies',\n",
       " 'Documents',\n",
       " 'Downloads',\n",
       " 'Favorites',\n",
       " 'GFG',\n",
       " 'Help',\n",
       " 'IdeaProjects',\n",
       " 'Links',\n",
       " 'Local Settings',\n",
       " 'Music',\n",
       " 'My Documents',\n",
       " 'NetHood',\n",
       " 'NTUSER.DAT',\n",
       " 'ntuser.dat.LOG1',\n",
       " 'ntuser.dat.LOG2',\n",
       " 'NTUSER.DAT{a2332f18-cdbf-11ec-8680-002248483d79}.TM.blf',\n",
       " 'NTUSER.DAT{a2332f18-cdbf-11ec-8680-002248483d79}.TMContainer00000000000000000001.regtrans-ms',\n",
       " 'NTUSER.DAT{a2332f18-cdbf-11ec-8680-002248483d79}.TMContainer00000000000000000002.regtrans-ms',\n",
       " 'ntuser.ini',\n",
       " 'OneDrive',\n",
       " 'PrintHood',\n",
       " 'Python',\n",
       " 'Recent',\n",
       " 'Saved Games',\n",
       " 'Searches',\n",
       " 'SendTo',\n",
       " 'Start Menu',\n",
       " 'Templates',\n",
       " 'Untitled.ipynb',\n",
       " 'Videos']"
      ]
     },
     "execution_count": 9,
     "metadata": {},
     "output_type": "execute_result"
    }
   ],
   "source": [
    "os.listdir()"
   ]
  },
  {
   "cell_type": "code",
   "execution_count": 25,
   "id": "01271edb",
   "metadata": {},
   "outputs": [
    {
     "data": {
      "text/plain": [
       "['.849C9593-D756-4E56-8D6E-42412F2A707B',\n",
       " 'Book.xlsx',\n",
       " 'CA3 performa for students.doc',\n",
       " 'Desktop',\n",
       " 'desktop.ini',\n",
       " 'Document 1.docx',\n",
       " 'Document.docx',\n",
       " 'Documents',\n",
       " 'Getting started with OneDrive.pdf',\n",
       " 'Personal Vault.lnk',\n",
       " 'Pictures']"
      ]
     },
     "execution_count": 25,
     "metadata": {},
     "output_type": "execute_result"
    }
   ],
   "source": [
    "os.listdir('OneDrive')"
   ]
  },
  {
   "cell_type": "code",
   "execution_count": 10,
   "id": "8b2b5768",
   "metadata": {
    "scrolled": true
   },
   "outputs": [
    {
     "name": "stdout",
     "output_type": "stream",
     "text": [
      "Help\n"
     ]
    }
   ],
   "source": [
    "for i in os.listdir('Help'):\n",
    "    print(i)"
   ]
  },
  {
   "cell_type": "code",
   "execution_count": 11,
   "id": "0c98334d",
   "metadata": {},
   "outputs": [
    {
     "data": {
      "text/plain": [
       "'C:\\\\Users\\\\lucif'"
      ]
     },
     "execution_count": 11,
     "metadata": {},
     "output_type": "execute_result"
    }
   ],
   "source": [
    "pwd"
   ]
  },
  {
   "cell_type": "code",
   "execution_count": 12,
   "id": "ff4402b8",
   "metadata": {},
   "outputs": [],
   "source": [
    "os.chdir('Help')"
   ]
  },
  {
   "cell_type": "code",
   "execution_count": 13,
   "id": "1b4f6976",
   "metadata": {},
   "outputs": [],
   "source": [
    "file_path = 'file.txt'\n",
    "fd = open(file_path, 'w')\n",
    "\n",
    "# Step 2: Close the file\n",
    "fd.close()\n",
    "\n",
    "# Step 3: Rename the file\n",
    "new_file_path = 'Hello.txt'\n",
    "os.rename(file_path, new_file_path)"
   ]
  },
  {
   "cell_type": "code",
   "execution_count": 14,
   "id": "cbc71626",
   "metadata": {},
   "outputs": [],
   "source": [
    "fd = open('file.txt','w')\n",
    "fd.close()"
   ]
  },
  {
   "cell_type": "code",
   "execution_count": 15,
   "id": "907ea52b",
   "metadata": {},
   "outputs": [],
   "source": [
    "os.rename('file.txt','Heklllll.txt')"
   ]
  },
  {
   "cell_type": "code",
   "execution_count": 16,
   "id": "134a0a3c",
   "metadata": {},
   "outputs": [],
   "source": [
    "os.remove('Heklllll.txt')"
   ]
  },
  {
   "cell_type": "code",
   "execution_count": 18,
   "id": "d02a5fd8",
   "metadata": {},
   "outputs": [
    {
     "name": "stdout",
     "output_type": "stream",
     "text": [
      "Already exits\n"
     ]
    }
   ],
   "source": [
    "if os.path.exists('Hell'):\n",
    "    print(\"Already exits\")\n",
    "else:\n",
    "    os.mkdir('Hell')"
   ]
  },
  {
   "cell_type": "code",
   "execution_count": 19,
   "id": "dcf6ac0c",
   "metadata": {},
   "outputs": [
    {
     "data": {
      "text/plain": [
       "0"
      ]
     },
     "execution_count": 19,
     "metadata": {},
     "output_type": "execute_result"
    }
   ],
   "source": [
    "os.path.getsize('Hell')"
   ]
  },
  {
   "cell_type": "markdown",
   "id": "8e63b350",
   "metadata": {},
   "source": [
    "## Bulk Creation of Directories"
   ]
  },
  {
   "cell_type": "code",
   "execution_count": 20,
   "id": "7e6ce9de",
   "metadata": {},
   "outputs": [
    {
     "data": {
      "text/plain": [
       "'C:\\\\Users\\\\lucif\\\\Help'"
      ]
     },
     "execution_count": 20,
     "metadata": {},
     "output_type": "execute_result"
    }
   ],
   "source": [
    "pwd"
   ]
  },
  {
   "cell_type": "code",
   "execution_count": 21,
   "id": "d47eefb4",
   "metadata": {},
   "outputs": [],
   "source": [
    "mkdir test"
   ]
  },
  {
   "cell_type": "code",
   "execution_count": 24,
   "id": "90393532",
   "metadata": {},
   "outputs": [],
   "source": [
    "for i in range(1000):\n",
    "    name = \"test/New \" + str(i+1)\n",
    "    os.mkdir(name)"
   ]
  },
  {
   "cell_type": "markdown",
   "id": "7a46a28a",
   "metadata": {},
   "source": [
    "## Bulk Text-file Reading"
   ]
  },
  {
   "cell_type": "code",
   "execution_count": 32,
   "id": "b0f16312",
   "metadata": {},
   "outputs": [],
   "source": [
    "fd = open('file5.txt','w')\n",
    "fd.write('Hello, This is file 5')\n",
    "fd.close()"
   ]
  },
  {
   "cell_type": "code",
   "execution_count": 37,
   "id": "6bf66a47",
   "metadata": {},
   "outputs": [
    {
     "name": "stdout",
     "output_type": "stream",
     "text": [
      " Volume in drive C has no label.\n",
      " Volume Serial Number is 16B0-F32F\n",
      "\n",
      " Directory of C:\\Users\\lucif\\Help\n",
      "\n",
      "16-06-2024  16:51    <DIR>          .\n",
      "16-06-2024  15:14    <DIR>          ..\n",
      "16-06-2024  15:29    <DIR>          Hell\n",
      "16-06-2024  16:50    <DIR>          Help\n",
      "16-06-2024  15:30    <DIR>          test\n",
      "               0 File(s)              0 bytes\n",
      "               5 Dir(s)  78,869,884,928 bytes free\n"
     ]
    }
   ],
   "source": [
    "ls"
   ]
  },
  {
   "cell_type": "code",
   "execution_count": 40,
   "id": "7bc80581",
   "metadata": {},
   "outputs": [],
   "source": [
    "files = os.listdir('Help')"
   ]
  },
  {
   "cell_type": "code",
   "execution_count": 41,
   "id": "84f3995e",
   "metadata": {},
   "outputs": [
    {
     "data": {
      "text/plain": [
       "30"
      ]
     },
     "execution_count": 41,
     "metadata": {},
     "output_type": "execute_result"
    }
   ],
   "source": [
    "len(files)"
   ]
  },
  {
   "cell_type": "code",
   "execution_count": 42,
   "id": "3ab04535",
   "metadata": {},
   "outputs": [
    {
     "name": "stdout",
     "output_type": "stream",
     "text": [
      "file1 - Copy (2).txt\n",
      "file1 - Copy (3).txt\n",
      "file1 - Copy (4).txt\n",
      "file1 - Copy (5).txt\n",
      "file1 - Copy.txt\n",
      "file1.txt\n",
      "file2 - Copy (2).txt\n",
      "file2 - Copy (3).txt\n",
      "file2 - Copy (4).txt\n",
      "file2 - Copy (5).txt\n",
      "file2 - Copy.txt\n",
      "file2.txt\n",
      "file3 - Copy (2).txt\n",
      "file3 - Copy (3).txt\n",
      "file3 - Copy (4).txt\n",
      "file3 - Copy (5).txt\n",
      "file3 - Copy.txt\n",
      "file3.txt\n",
      "file4 - Copy (2).txt\n",
      "file4 - Copy (3).txt\n",
      "file4 - Copy (4).txt\n",
      "file4 - Copy (5).txt\n",
      "file4 - Copy.txt\n",
      "file4.txt\n",
      "file5 - Copy (2).txt\n",
      "file5 - Copy (3).txt\n",
      "file5 - Copy (4).txt\n",
      "file5 - Copy (5).txt\n",
      "file5 - Copy.txt\n",
      "file5.txt\n"
     ]
    }
   ],
   "source": [
    "for i in files:\n",
    "    print(i)"
   ]
  },
  {
   "cell_type": "code",
   "execution_count": 43,
   "id": "14c1c881",
   "metadata": {},
   "outputs": [
    {
     "data": {
      "text/plain": [
       "list"
      ]
     },
     "execution_count": 43,
     "metadata": {},
     "output_type": "execute_result"
    }
   ],
   "source": [
    "type(files)"
   ]
  },
  {
   "cell_type": "code",
   "execution_count": 46,
   "id": "4e1cdaae",
   "metadata": {},
   "outputs": [
    {
     "name": "stdout",
     "output_type": "stream",
     "text": [
      "Help/file1 - Copy (2).txt Hello, This is file 1\n",
      "Help/file1 - Copy (3).txt Hello, This is file 1\n",
      "Help/file1 - Copy (4).txt Hello, This is file 1\n",
      "Help/file1 - Copy (5).txt Hello, This is file 1\n",
      "Help/file1 - Copy.txt Hello, This is file 1\n",
      "Help/file1.txt Hello, This is file 1\n",
      "Help/file2 - Copy (2).txt Hello, This is file 2\n",
      "Help/file2 - Copy (3).txt Hello, This is file 2\n",
      "Help/file2 - Copy (4).txt Hello, This is file 2\n",
      "Help/file2 - Copy (5).txt Hello, This is file 2\n",
      "Help/file2 - Copy.txt Hello, This is file 2\n",
      "Help/file2.txt Hello, This is file 2\n",
      "Help/file3 - Copy (2).txt Hello, This is file 3\n",
      "Help/file3 - Copy (3).txt Hello, This is file 3\n",
      "Help/file3 - Copy (4).txt Hello, This is file 3\n",
      "Help/file3 - Copy (5).txt Hello, This is file 3\n",
      "Help/file3 - Copy.txt Hello, This is file 3\n",
      "Help/file3.txt Hello, This is file 3\n",
      "Help/file4 - Copy (2).txt Hello, This is file 4\n",
      "Help/file4 - Copy (3).txt Hello, This is file 4\n",
      "Help/file4 - Copy (4).txt Hello, This is file 4\n",
      "Help/file4 - Copy (5).txt Hello, This is file 4\n",
      "Help/file4 - Copy.txt Hello, This is file 4\n",
      "Help/file4.txt Hello, This is file 4\n",
      "Help/file5 - Copy (2).txt Hello, This is file 5\n",
      "Help/file5 - Copy (3).txt Hello, This is file 5\n",
      "Help/file5 - Copy (4).txt Hello, This is file 5\n",
      "Help/file5 - Copy (5).txt Hello, This is file 5\n",
      "Help/file5 - Copy.txt Hello, This is file 5\n",
      "Help/file5.txt Hello, This is file 5\n"
     ]
    }
   ],
   "source": [
    "for i in files:\n",
    "    path = 'Help/'+i\n",
    "    fd = open(path,'r')\n",
    "    print('Help/'+i, fd.read())\n",
    "    fd.close()"
   ]
  },
  {
   "cell_type": "markdown",
   "id": "eb07de9a",
   "metadata": {},
   "source": [
    "## Bulk Text file data combining"
   ]
  },
  {
   "cell_type": "code",
   "execution_count": 48,
   "id": "d81f6f64",
   "metadata": {},
   "outputs": [],
   "source": [
    "for i in files:\n",
    "    \n",
    "    path = 'Help/'+i\n",
    "    fd_read = open(path,'r')\n",
    "    \n",
    "    fd_write = open('Data.txt','a')\n",
    "    fd_write.write(fd_read.read())\n",
    "\n",
    "    fd_read.close()\n",
    "    \n",
    "fd_write.close()"
   ]
  },
  {
   "cell_type": "code",
   "execution_count": 49,
   "id": "9ddaf7cd",
   "metadata": {},
   "outputs": [
    {
     "name": "stdout",
     "output_type": "stream",
     "text": [
      "Hello, This is file 1Hello, This is file 1Hello, This is file 1Hello, This is file 1Hello, This is file 1Hello, This is file 1Hello, This is file 2Hello, This is file 2Hello, This is file 2Hello, This is file 2Hello, This is file 2Hello, This is file 2Hello, This is file 3Hello, This is file 3Hello, This is file 3Hello, This is file 3Hello, This is file 3Hello, This is file 3Hello, This is file 4Hello, This is file 4Hello, This is file 4Hello, This is file 4Hello, This is file 4Hello, This is file 4Hello, This is file 5Hello, This is file 5Hello, This is file 5Hello, This is file 5Hello, This is file 5Hello, This is file 5\n"
     ]
    }
   ],
   "source": [
    "fd = open('Data.txt','r')\n",
    "print(fd.read())\n",
    "fd.close()"
   ]
  },
  {
   "cell_type": "code",
   "execution_count": null,
   "id": "fab8e110",
   "metadata": {},
   "outputs": [],
   "source": []
  }
 ],
 "metadata": {
  "kernelspec": {
   "display_name": "Python 3 (ipykernel)",
   "language": "python",
   "name": "python3"
  },
  "language_info": {
   "codemirror_mode": {
    "name": "ipython",
    "version": 3
   },
   "file_extension": ".py",
   "mimetype": "text/x-python",
   "name": "python",
   "nbconvert_exporter": "python",
   "pygments_lexer": "ipython3",
   "version": "3.11.5"
  }
 },
 "nbformat": 4,
 "nbformat_minor": 5
}
