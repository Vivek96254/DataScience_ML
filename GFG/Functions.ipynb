{
 "cells": [
  {
   "cell_type": "markdown",
   "id": "d4b93fdf",
   "metadata": {},
   "source": [
    "### Zip function"
   ]
  },
  {
   "cell_type": "code",
   "execution_count": 1,
   "id": "ce77a139",
   "metadata": {},
   "outputs": [
    {
     "name": "stdout",
     "output_type": "stream",
     "text": [
      "[[[1, 2, 3]], [[4, 5, 6]], [[7, 8, 9]]]\n",
      "[[1, 4, 7], [2, 5, 8], [3, 6, 9]]\n",
      "[[1, 2, 3], [4, 5, 6], [7, 8, 9]]\n"
     ]
    }
   ],
   "source": [
    "matrix = [[1,2,3], [4,5,6], [7,8,9]]\n",
    "print([list(row) for row in zip(matrix)])\n",
    "print([list(row) for row in zip(*matrix)])\n",
    "print(matrix)"
   ]
  },
  {
   "cell_type": "code",
   "execution_count": 2,
   "id": "233d691c",
   "metadata": {},
   "outputs": [
    {
     "name": "stdout",
     "output_type": "stream",
     "text": [
      "90\n"
     ]
    }
   ],
   "source": [
    "lst1 = [1,5,7]\n",
    "lst2 = [4,6,8]\n",
    "\n",
    "print(sum([i*j for i,j in zip(lst1,lst2)]))"
   ]
  },
  {
   "cell_type": "markdown",
   "id": "d629e829",
   "metadata": {},
   "source": [
    "## Filter Function\n"
   ]
  },
  {
   "cell_type": "code",
   "execution_count": 3,
   "id": "1a9dfc79",
   "metadata": {},
   "outputs": [
    {
     "name": "stdout",
     "output_type": "stream",
     "text": [
      "[2, 4, 6, 8]\n"
     ]
    }
   ],
   "source": [
    "lst = [1,2,3,4,5,6,7,8,9]\n",
    "\n",
    "def isEven(n):\n",
    "    return n%2 == 0\n",
    "print(list(filter(isEven,lst)))"
   ]
  },
  {
   "cell_type": "markdown",
   "id": "dda31ee5",
   "metadata": {},
   "source": [
    "## Lambda Function"
   ]
  },
  {
   "cell_type": "code",
   "execution_count": 4,
   "id": "140df3cd",
   "metadata": {},
   "outputs": [
    {
     "name": "stdout",
     "output_type": "stream",
     "text": [
      "15\n"
     ]
    }
   ],
   "source": [
    "add_num = lambda x,y : x+y\n",
    "print(add_num(5,10))"
   ]
  },
  {
   "cell_type": "code",
   "execution_count": 5,
   "id": "f0ef5b51",
   "metadata": {},
   "outputs": [
    {
     "name": "stdout",
     "output_type": "stream",
     "text": [
      "[2, 4, 6, 8]\n"
     ]
    }
   ],
   "source": [
    "lst = [1,2,3,4,5,6,7,8,9]\n",
    "lst1 = list(filter(lambda x: x%2 ==0,lst))\n",
    "print(lst1)"
   ]
  },
  {
   "cell_type": "markdown",
   "id": "00daf3db",
   "metadata": {},
   "source": [
    "## Map Function"
   ]
  },
  {
   "cell_type": "code",
   "execution_count": 6,
   "id": "82638df5",
   "metadata": {},
   "outputs": [
    {
     "name": "stdout",
     "output_type": "stream",
     "text": [
      "[1, 4, 9, 16, 25, 36, 49, 64, 81]\n"
     ]
    }
   ],
   "source": [
    "lst = [1,2,3,4,5,6,7,8,9]\n",
    "\n",
    "def sqr(x):\n",
    "    return x**2\n",
    "\n",
    "print(list(map(sqr,lst)))"
   ]
  },
  {
   "cell_type": "code",
   "execution_count": 7,
   "id": "1449131c",
   "metadata": {},
   "outputs": [
    {
     "name": "stdout",
     "output_type": "stream",
     "text": [
      "[5, 3, 6, 6]\n"
     ]
    }
   ],
   "source": [
    "names = ['akash','bob','chaman','dayaan']\n",
    "print(list(map(lambda x: len(x),names)))"
   ]
  },
  {
   "cell_type": "markdown",
   "id": "ec5ae170",
   "metadata": {},
   "source": [
    "## Reduce Function"
   ]
  },
  {
   "cell_type": "code",
   "execution_count": 12,
   "id": "18ce571d",
   "metadata": {},
   "outputs": [
    {
     "name": "stdout",
     "output_type": "stream",
     "text": [
      "45\n"
     ]
    }
   ],
   "source": [
    "from functools import reduce\n",
    "lst = [1,2,3,4,5,6,7,8,9]\n",
    "\n",
    "print(reduce(add_num,lst))"
   ]
  },
  {
   "cell_type": "code",
   "execution_count": null,
   "id": "76cc7445",
   "metadata": {},
   "outputs": [],
   "source": []
  }
 ],
 "metadata": {
  "kernelspec": {
   "display_name": "Python 3 (ipykernel)",
   "language": "python",
   "name": "python3"
  },
  "language_info": {
   "codemirror_mode": {
    "name": "ipython",
    "version": 3
   },
   "file_extension": ".py",
   "mimetype": "text/x-python",
   "name": "python",
   "nbconvert_exporter": "python",
   "pygments_lexer": "ipython3",
   "version": "3.11.5"
  }
 },
 "nbformat": 4,
 "nbformat_minor": 5
}
