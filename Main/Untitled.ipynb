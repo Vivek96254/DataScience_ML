{
 "cells": [
  {
   "cell_type": "markdown",
   "id": "01935642",
   "metadata": {},
   "source": [
    "### Reading data from a file"
   ]
  },
  {
   "cell_type": "code",
   "execution_count": 18,
   "id": "0b4f9f01",
   "metadata": {},
   "outputs": [
    {
     "name": "stdout",
     "output_type": "stream",
     "text": [
      "Coronavirus disease 2019 (COVID-19) is a contagious disease caused by the coronavirus SARS-CoV-2. The first known case was identified in Wuhan, China, in December 2019.[7] Most scientists believe the SARS-CoV-2 virus entered into human populations through natural zoonosis, similar to the SARS-CoV-1 and MERS-CoV outbreaks, and consistent with other pandemics in human history.[8][9] Social and environmental factors including climate change, natural ecosystem destruction and wildlife trade increased the likelihood of such zoonotic spillover.[10][11] [12][13] The disease quickly spread worldwide, resulting in the COVID-19 pandemic.\n",
      "\n",
      "The symptoms of COVID 19 are variable but often include fever,[14] fatigue, cough, breathing difficulties, loss of smell, and loss of taste.[15][16][17] Symptoms may begin one to fourteen days after exposure to the virus. At least a third of people who are infected do not develop noticeable symptoms.[18][19] Of those who develop symptoms noticeable enough to be classified as patients, most (81%) develop mild to moderate symptoms (up to mild pneumonia), while 14% develop severe symptoms (dyspnea, hypoxia, or more than 50% lung involvement on imaging), and 5% develop critical symptoms (respiratory failure, shock, or multiorgan dysfunction).[20] Older people are at a higher risk of developing severe symptoms. Some complications result in death. Some people continue to experience a range of effects (long COVID) for months or years after infection, and damage to organs has been observed.[21] Multi-year studies are underway to further investigate the long-term effects of the disease.[22]\n",
      "\n",
      "COVID 19 transmission occurs when infectious particles are breathed in or come into contact with the eyes, nose, or mouth. The risk is highest when people are in close proximity, but small airborne particles containing the virus can remain suspended in the air and travel over longer distances, particularly indoors. Transmission can also occur when people touch their eyes, nose or mouth after touching surfaces or objects that have been contaminated by the virus. People remain contagious for up to 20 days and can spread the virus even if they do not develop symptoms.[23]\n",
      "\n",
      "Testing methods for COVID-19 to detect the virus's nucleic acid include real-time reverse transcription polymerase chain reaction (RTâ€‘PCR),[24][25] transcription-mediated amplification,[24][25][26] and reverse transcription loop-mediated isothermal amplification (RTâ€‘LAMP)[24][25] from a nasopharyngeal swab.[27]\n"
     ]
    }
   ],
   "source": [
    "fd = open('Data.txt', 'r')\n",
    "\n",
    "txt = fd.read()\n",
    "print(txt)\n",
    "\n",
    "fd.close()"
   ]
  },
  {
   "cell_type": "code",
   "execution_count": 2,
   "id": "91c74ecd",
   "metadata": {},
   "outputs": [
    {
     "data": {
      "text/plain": [
       "\"Coronavirus disease 2019 (COVID-19) is a contagious disease caused by the coronavirus SARS-CoV-2. The first known case was identified in Wuhan, China, in December 2019.[7] Most scientists believe the SARS-CoV-2 virus entered into human populations through natural zoonosis, similar to the SARS-CoV-1 and MERS-CoV outbreaks, and consistent with other pandemics in human history.[8][9] Social and environmental factors including climate change, natural ecosystem destruction and wildlife trade increased the likelihood of such zoonotic spillover.[10][11] [12][13] The disease quickly spread worldwide, resulting in the COVID-19 pandemic. The symptoms of COVID 19 are variable but often include fever,[14] fatigue, cough, breathing difficulties, loss of smell, and loss of taste.[15][16][17] Symptoms may begin one to fourteen days after exposure to the virus. At least a third of people who are infected do not develop noticeable symptoms.[18][19] Of those who develop symptoms noticeable enough to be classified as patients, most (81%) develop mild to moderate symptoms (up to mild pneumonia), while 14% develop severe symptoms (dyspnea, hypoxia, or more than 50% lung involvement on imaging), and 5% develop critical symptoms (respiratory failure, shock, or multiorgan dysfunction).[20] Older people are at a higher risk of developing severe symptoms. Some complications result in death. Some people continue to experience a range of effects (long COVID) for months or years after infection, and damage to organs has been observed.[21] Multi-year studies are underway to further investigate the long-term effects of the disease.[22] COVIDâ€‘19 transmission occurs when infectious particles are breathed in or come into contact with the eyes, nose, or mouth. The risk is highest when people are in close proximity, but small airborne particles containing the virus can remain suspended in the air and travel over longer distances, particularly indoors. Transmission can also occur when people touch their eyes, nose or mouth after touching surfaces or objects that have been contaminated by the virus. People remain contagious for up to 20 days and can spread the virus even if they do not develop symptoms.[23] Testing methods for COVID-19 to detect the virus's nucleic acid include real-time reverse transcription polymerase chain reaction (RTâ€‘PCR),[24][25] transcription-mediated amplification,[24][25][26] and reverse transcription loop-mediated isothermal amplification (RTâ€‘LAMP)[24][25] from a nasopharyngeal swab.[27]\""
      ]
     },
     "execution_count": 2,
     "metadata": {},
     "output_type": "execute_result"
    }
   ],
   "source": [
    "txt.replace('\\n\\n',' ')"
   ]
  },
  {
   "cell_type": "markdown",
   "id": "c6a1e914",
   "metadata": {},
   "source": [
    "## Text Preprocessing"
   ]
  },
  {
   "cell_type": "markdown",
   "id": "2cfe3e72",
   "metadata": {},
   "source": [
    "### Paras"
   ]
  },
  {
   "cell_type": "code",
   "execution_count": 3,
   "id": "ea62083b",
   "metadata": {},
   "outputs": [],
   "source": [
    "per = txt.split(\"\\n\\n\")"
   ]
  },
  {
   "cell_type": "code",
   "execution_count": 4,
   "id": "98032c50",
   "metadata": {},
   "outputs": [
    {
     "name": "stdout",
     "output_type": "stream",
     "text": [
      "Coronavirus disease 2019 (COVID-19) is a contagious disease caused by the coronavirus SARS-CoV-2. The first known case was identified in Wuhan, China, in December 2019.[7] Most scientists believe the SARS-CoV-2 virus entered into human populations through natural zoonosis, similar to the SARS-CoV-1 and MERS-CoV outbreaks, and consistent with other pandemics in human history.[8][9] Social and environmental factors including climate change, natural ecosystem destruction and wildlife trade increased the likelihood of such zoonotic spillover.[10][11] [12][13] The disease quickly spread worldwide, resulting in the COVID-19 pandemic.\n",
      "The symptoms of COVID 19 are variable but often include fever,[14] fatigue, cough, breathing difficulties, loss of smell, and loss of taste.[15][16][17] Symptoms may begin one to fourteen days after exposure to the virus. At least a third of people who are infected do not develop noticeable symptoms.[18][19] Of those who develop symptoms noticeable enough to be classified as patients, most (81%) develop mild to moderate symptoms (up to mild pneumonia), while 14% develop severe symptoms (dyspnea, hypoxia, or more than 50% lung involvement on imaging), and 5% develop critical symptoms (respiratory failure, shock, or multiorgan dysfunction).[20] Older people are at a higher risk of developing severe symptoms. Some complications result in death. Some people continue to experience a range of effects (long COVID) for months or years after infection, and damage to organs has been observed.[21] Multi-year studies are underway to further investigate the long-term effects of the disease.[22]\n",
      "COVIDâ€‘19 transmission occurs when infectious particles are breathed in or come into contact with the eyes, nose, or mouth. The risk is highest when people are in close proximity, but small airborne particles containing the virus can remain suspended in the air and travel over longer distances, particularly indoors. Transmission can also occur when people touch their eyes, nose or mouth after touching surfaces or objects that have been contaminated by the virus. People remain contagious for up to 20 days and can spread the virus even if they do not develop symptoms.[23]\n",
      "Testing methods for COVID-19 to detect the virus's nucleic acid include real-time reverse transcription polymerase chain reaction (RTâ€‘PCR),[24][25] transcription-mediated amplification,[24][25][26] and reverse transcription loop-mediated isothermal amplification (RTâ€‘LAMP)[24][25] from a nasopharyngeal swab.[27]\n"
     ]
    }
   ],
   "source": [
    "for i in per:\n",
    "    print(i)"
   ]
  },
  {
   "cell_type": "code",
   "execution_count": 5,
   "id": "d7a810a9",
   "metadata": {},
   "outputs": [
    {
     "data": {
      "text/plain": [
       "4"
      ]
     },
     "execution_count": 5,
     "metadata": {},
     "output_type": "execute_result"
    }
   ],
   "source": [
    "len(per)"
   ]
  },
  {
   "cell_type": "markdown",
   "id": "820fe8f3",
   "metadata": {},
   "source": [
    "### Lines"
   ]
  },
  {
   "cell_type": "code",
   "execution_count": 6,
   "id": "8ded7a74",
   "metadata": {},
   "outputs": [],
   "source": [
    "lines = txt.split(\".\")"
   ]
  },
  {
   "cell_type": "code",
   "execution_count": 7,
   "id": "7518adb3",
   "metadata": {},
   "outputs": [
    {
     "name": "stdout",
     "output_type": "stream",
     "text": [
      "19\n"
     ]
    }
   ],
   "source": [
    "print(len(lines))"
   ]
  },
  {
   "cell_type": "code",
   "execution_count": 8,
   "id": "59aac1c4",
   "metadata": {},
   "outputs": [
    {
     "data": {
      "text/plain": [
       "18"
      ]
     },
     "execution_count": 8,
     "metadata": {},
     "output_type": "execute_result"
    }
   ],
   "source": [
    "len(lines[:-1])"
   ]
  },
  {
   "cell_type": "markdown",
   "id": "f9bba170",
   "metadata": {},
   "source": [
    "### Words"
   ]
  },
  {
   "cell_type": "code",
   "execution_count": 9,
   "id": "4afb6aae",
   "metadata": {},
   "outputs": [],
   "source": [
    "words = txt.split(\" \")"
   ]
  },
  {
   "cell_type": "code",
   "execution_count": 10,
   "id": "47c38ca3",
   "metadata": {},
   "outputs": [
    {
     "name": "stdout",
     "output_type": "stream",
     "text": [
      "355\n"
     ]
    }
   ],
   "source": [
    "print(len(words))"
   ]
  },
  {
   "cell_type": "code",
   "execution_count": 11,
   "id": "d8e8e0f2",
   "metadata": {},
   "outputs": [
    {
     "name": "stdout",
     "output_type": "stream",
     "text": [
      "Coronavirus\n",
      "disease\n",
      "2019\n",
      "(COVID-19)\n",
      "is\n",
      "a\n",
      "contagious\n",
      "disease\n",
      "caused\n",
      "by\n",
      "the\n",
      "coronavirus\n",
      "SARS-CoV-2.\n",
      "The\n",
      "first\n",
      "known\n",
      "case\n",
      "was\n",
      "identified\n",
      "in\n",
      "Wuhan,\n",
      "China,\n",
      "in\n",
      "December\n",
      "2019.[7]\n",
      "Most\n",
      "scientists\n",
      "believe\n",
      "the\n",
      "SARS-CoV-2\n",
      "virus\n",
      "entered\n",
      "into\n",
      "human\n",
      "populations\n",
      "through\n",
      "natural\n",
      "zoonosis,\n",
      "similar\n",
      "to\n",
      "the\n",
      "SARS-CoV-1\n",
      "and\n",
      "MERS-CoV\n",
      "outbreaks,\n",
      "and\n",
      "consistent\n",
      "with\n",
      "other\n",
      "pandemics\n",
      "in\n",
      "human\n",
      "history.[8][9]\n",
      "Social\n",
      "and\n",
      "environmental\n",
      "factors\n",
      "including\n",
      "climate\n",
      "change,\n",
      "natural\n",
      "ecosystem\n",
      "destruction\n",
      "and\n",
      "wildlife\n",
      "trade\n",
      "increased\n",
      "the\n",
      "likelihood\n",
      "of\n",
      "such\n",
      "zoonotic\n",
      "spillover.[10][11]\n",
      "[12][13]\n",
      "The\n",
      "disease\n",
      "quickly\n",
      "spread\n",
      "worldwide,\n",
      "resulting\n",
      "in\n",
      "the\n",
      "COVID-19\n",
      "pandemic.\n",
      "\n",
      "The\n",
      "symptoms\n",
      "of\n",
      "COVID\n",
      "19\n",
      "are\n",
      "variable\n",
      "but\n",
      "often\n",
      "include\n",
      "fever,[14]\n",
      "fatigue,\n",
      "cough,\n",
      "breathing\n",
      "difficulties,\n",
      "loss\n",
      "of\n",
      "smell,\n",
      "and\n",
      "loss\n",
      "of\n",
      "taste.[15][16][17]\n",
      "Symptoms\n",
      "may\n",
      "begin\n",
      "one\n",
      "to\n",
      "fourteen\n",
      "days\n",
      "after\n",
      "exposure\n",
      "to\n",
      "the\n",
      "virus.\n",
      "At\n",
      "least\n",
      "a\n",
      "third\n",
      "of\n",
      "people\n",
      "who\n",
      "are\n",
      "infected\n",
      "do\n",
      "not\n",
      "develop\n",
      "noticeable\n",
      "symptoms.[18][19]\n",
      "Of\n",
      "those\n",
      "who\n",
      "develop\n",
      "symptoms\n",
      "noticeable\n",
      "enough\n",
      "to\n",
      "be\n",
      "classified\n",
      "as\n",
      "patients,\n",
      "most\n",
      "(81%)\n",
      "develop\n",
      "mild\n",
      "to\n",
      "moderate\n",
      "symptoms\n",
      "(up\n",
      "to\n",
      "mild\n",
      "pneumonia),\n",
      "while\n",
      "14%\n",
      "develop\n",
      "severe\n",
      "symptoms\n",
      "(dyspnea,\n",
      "hypoxia,\n",
      "or\n",
      "more\n",
      "than\n",
      "50%\n",
      "lung\n",
      "involvement\n",
      "on\n",
      "imaging),\n",
      "and\n",
      "5%\n",
      "develop\n",
      "critical\n",
      "symptoms\n",
      "(respiratory\n",
      "failure,\n",
      "shock,\n",
      "or\n",
      "multiorgan\n",
      "dysfunction).[20]\n",
      "Older\n",
      "people\n",
      "are\n",
      "at\n",
      "a\n",
      "higher\n",
      "risk\n",
      "of\n",
      "developing\n",
      "severe\n",
      "symptoms.\n",
      "Some\n",
      "complications\n",
      "result\n",
      "in\n",
      "death.\n",
      "Some\n",
      "people\n",
      "continue\n",
      "to\n",
      "experience\n",
      "a\n",
      "range\n",
      "of\n",
      "effects\n",
      "(long\n",
      "COVID)\n",
      "for\n",
      "months\n",
      "or\n",
      "years\n",
      "after\n",
      "infection,\n",
      "and\n",
      "damage\n",
      "to\n",
      "organs\n",
      "has\n",
      "been\n",
      "observed.[21]\n",
      "Multi-year\n",
      "studies\n",
      "are\n",
      "underway\n",
      "to\n",
      "further\n",
      "investigate\n",
      "the\n",
      "long-term\n",
      "effects\n",
      "of\n",
      "the\n",
      "disease.[22]\n",
      "\n",
      "COVIDâ€‘19\n",
      "transmission\n",
      "occurs\n",
      "when\n",
      "infectious\n",
      "particles\n",
      "are\n",
      "breathed\n",
      "in\n",
      "or\n",
      "come\n",
      "into\n",
      "contact\n",
      "with\n",
      "the\n",
      "eyes,\n",
      "nose,\n",
      "or\n",
      "mouth.\n",
      "The\n",
      "risk\n",
      "is\n",
      "highest\n",
      "when\n",
      "people\n",
      "are\n",
      "in\n",
      "close\n",
      "proximity,\n",
      "but\n",
      "small\n",
      "airborne\n",
      "particles\n",
      "containing\n",
      "the\n",
      "virus\n",
      "can\n",
      "remain\n",
      "suspended\n",
      "in\n",
      "the\n",
      "air\n",
      "and\n",
      "travel\n",
      "over\n",
      "longer\n",
      "distances,\n",
      "particularly\n",
      "indoors.\n",
      "Transmission\n",
      "can\n",
      "also\n",
      "occur\n",
      "when\n",
      "people\n",
      "touch\n",
      "their\n",
      "eyes,\n",
      "nose\n",
      "or\n",
      "mouth\n",
      "after\n",
      "touching\n",
      "surfaces\n",
      "or\n",
      "objects\n",
      "that\n",
      "have\n",
      "been\n",
      "contaminated\n",
      "by\n",
      "the\n",
      "virus.\n",
      "People\n",
      "remain\n",
      "contagious\n",
      "for\n",
      "up\n",
      "to\n",
      "20\n",
      "days\n",
      "and\n",
      "can\n",
      "spread\n",
      "the\n",
      "virus\n",
      "even\n",
      "if\n",
      "they\n",
      "do\n",
      "not\n",
      "develop\n",
      "symptoms.[23]\n",
      "\n",
      "Testing\n",
      "methods\n",
      "for\n",
      "COVID-19\n",
      "to\n",
      "detect\n",
      "the\n",
      "virus's\n",
      "nucleic\n",
      "acid\n",
      "include\n",
      "real-time\n",
      "reverse\n",
      "transcription\n",
      "polymerase\n",
      "chain\n",
      "reaction\n",
      "(RTâ€‘PCR),[24][25]\n",
      "transcription-mediated\n",
      "amplification,[24][25][26]\n",
      "and\n",
      "reverse\n",
      "transcription\n",
      "loop-mediated\n",
      "isothermal\n",
      "amplification\n",
      "(RTâ€‘LAMP)[24][25]\n",
      "from\n",
      "a\n",
      "nasopharyngeal\n",
      "swab.[27]\n"
     ]
    }
   ],
   "source": [
    "for i in words:\n",
    "    print(i)"
   ]
  },
  {
   "cell_type": "code",
   "execution_count": 12,
   "id": "a91b8f78",
   "metadata": {},
   "outputs": [
    {
     "data": {
      "text/plain": [
       "\"Coronavirus disease 2019 (COVID-19) is a contagious disease caused by the coronavirus SARS-CoV-2. The first known case was identified in Wuhan, China, in December 2019.  Most scientists believe the SARS-CoV-2 virus entered into human populations through natural zoonosis, similar to the SARS-CoV-1 and MERS-CoV outbreaks, and consistent with other pandemics in human history.[8][9] Social and environmental factors including climate change, natural ecosystem destruction and wildlife trade increased the likelihood of such zoonotic spillover.[10][11] [12][13] The disease quickly spread worldwide, resulting in the COVID-19 pandemic.\\n\\nThe symptoms of COVID 19 are variable but often include fever,[14] fatigue, cough, breathing difficulties, loss of smell, and loss of taste.[15][16][17] Symptoms may begin one to fourteen days after exposure to the virus. At least a third of people who are infected do not develop noticeable symptoms.[18][19] Of those who develop symptoms noticeable enough to be classified as patients, most (81%) develop mild to moderate symptoms (up to mild pneumonia), while 14% develop severe symptoms (dyspnea, hypoxia, or more than 50% lung involvement on imaging), and 5% develop critical symptoms (respiratory failure, shock, or multiorgan dysfunction).[20] Older people are at a higher risk of developing severe symptoms. Some complications result in death. Some people continue to experience a range of effects (long COVID) for months or years after infection, and damage to organs has been observed.[21] Multi-year studies are underway to further investigate the long-term effects of the disease.[22]\\n\\nCOVIDâ€‘19 transmission occurs when infectious particles are breathed in or come into contact with the eyes, nose, or mouth. The risk is highest when people are in close proximity, but small airborne particles containing the virus can remain suspended in the air and travel over longer distances, particularly indoors. Transmission can also occur when people touch their eyes, nose or mouth after touching surfaces or objects that have been contaminated by the virus. People remain contagious for up to 20 days and can spread the virus even if they do not develop symptoms.[23]\\n\\nTesting methods for COVID-19 to detect the virus's nucleic acid include real-time reverse transcription polymerase chain reaction (RTâ€‘PCR),[24][25] transcription-mediated amplification,[24][25][26] and reverse transcription loop-mediated isothermal amplification (RTâ€‘LAMP)[24][25] from a nasopharyngeal swab.[27]\""
      ]
     },
     "execution_count": 12,
     "metadata": {},
     "output_type": "execute_result"
    }
   ],
   "source": [
    "txt.replace('[7]',' ')"
   ]
  },
  {
   "cell_type": "code",
   "execution_count": 13,
   "id": "b963e63e",
   "metadata": {},
   "outputs": [],
   "source": [
    "for i in range(7,28):\n",
    "    pattern='[' + str(i) + ']'\n",
    "    txt = txt.replace(pattern, ' ')"
   ]
  },
  {
   "cell_type": "code",
   "execution_count": 16,
   "id": "86a5063c",
   "metadata": {},
   "outputs": [],
   "source": [
    "for i in \"!@#$%^&*()~`<>?â€‘-\":\n",
    "    pattern='[' + str(i) + ']'\n",
    "    txt = txt.replace(pattern, ' ')"
   ]
  },
  {
   "cell_type": "code",
   "execution_count": 19,
   "id": "94ff5d2a",
   "metadata": {},
   "outputs": [
    {
     "name": "stdout",
     "output_type": "stream",
     "text": [
      "Coronavirus disease 2019 (COVID-19) is a contagious disease caused by the coronavirus SARS-CoV-2. The first known case was identified in Wuhan, China, in December 2019.[7] Most scientists believe the SARS-CoV-2 virus entered into human populations through natural zoonosis, similar to the SARS-CoV-1 and MERS-CoV outbreaks, and consistent with other pandemics in human history.[8][9] Social and environmental factors including climate change, natural ecosystem destruction and wildlife trade increased the likelihood of such zoonotic spillover.[10][11] [12][13] The disease quickly spread worldwide, resulting in the COVID-19 pandemic.\n",
      "\n",
      "The symptoms of COVID 19 are variable but often include fever,[14] fatigue, cough, breathing difficulties, loss of smell, and loss of taste.[15][16][17] Symptoms may begin one to fourteen days after exposure to the virus. At least a third of people who are infected do not develop noticeable symptoms.[18][19] Of those who develop symptoms noticeable enough to be classified as patients, most (81%) develop mild to moderate symptoms (up to mild pneumonia), while 14% develop severe symptoms (dyspnea, hypoxia, or more than 50% lung involvement on imaging), and 5% develop critical symptoms (respiratory failure, shock, or multiorgan dysfunction).[20] Older people are at a higher risk of developing severe symptoms. Some complications result in death. Some people continue to experience a range of effects (long COVID) for months or years after infection, and damage to organs has been observed.[21] Multi-year studies are underway to further investigate the long-term effects of the disease.[22]\n",
      "\n",
      "COVID 19 transmission occurs when infectious particles are breathed in or come into contact with the eyes, nose, or mouth. The risk is highest when people are in close proximity, but small airborne particles containing the virus can remain suspended in the air and travel over longer distances, particularly indoors. Transmission can also occur when people touch their eyes, nose or mouth after touching surfaces or objects that have been contaminated by the virus. People remain contagious for up to 20 days and can spread the virus even if they do not develop symptoms.[23]\n",
      "\n",
      "Testing methods for COVID-19 to detect the virus's nucleic acid include real-time reverse transcription polymerase chain reaction (RTâ€‘PCR),[24][25] transcription-mediated amplification,[24][25][26] and reverse transcription loop-mediated isothermal amplification (RTâ€‘LAMP)[24][25] from a nasopharyngeal swab.[27]\n"
     ]
    }
   ],
   "source": [
    "print(txt)"
   ]
  },
  {
   "cell_type": "markdown",
   "id": "6393b6c5",
   "metadata": {},
   "source": [
    "## Writing text on a text file"
   ]
  },
  {
   "cell_type": "code",
   "execution_count": 25,
   "id": "d11181d1",
   "metadata": {},
   "outputs": [],
   "source": [
    "fd1 = open(\"dqata.txt\",'a')\n",
    "fd1.write(\"Hello! Welcome heklklksadjklfhadjklshfjkladsh\")\n",
    "fd1.close()"
   ]
  },
  {
   "cell_type": "code",
   "execution_count": null,
   "id": "0d3dda7c",
   "metadata": {},
   "outputs": [],
   "source": []
  }
 ],
 "metadata": {
  "kernelspec": {
   "display_name": "Python 3 (ipykernel)",
   "language": "python",
   "name": "python3"
  },
  "language_info": {
   "codemirror_mode": {
    "name": "ipython",
    "version": 3
   },
   "file_extension": ".py",
   "mimetype": "text/x-python",
   "name": "python",
   "nbconvert_exporter": "python",
   "pygments_lexer": "ipython3",
   "version": "3.11.5"
  }
 },
 "nbformat": 4,
 "nbformat_minor": 5
}
