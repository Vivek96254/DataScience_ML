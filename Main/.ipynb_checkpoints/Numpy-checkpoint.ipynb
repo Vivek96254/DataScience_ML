{
 "cells": [
  {
   "cell_type": "code",
   "execution_count": 3,
   "id": "f69588fb",
   "metadata": {},
   "outputs": [],
   "source": [
    "import numpy as np\n",
    "arr1 = np.array([[1,2,3],\n",
    "              [4,5,6],\n",
    "              [7,8,9]])\n",
    "\n",
    "arr2 = np.array([[9,8,7],\n",
    "              [6,5,4],\n",
    "              [3,2,1]])\n",
    "\n",
    "arr3 = np.array([[9,8,7],\n",
    "              [6,5,4,2],\n",
    "              [3,2,1]])"
   ]
  },
  {
   "cell_type": "code",
   "execution_count": 4,
   "id": "4b23e5e4",
   "metadata": {},
   "outputs": [
    {
     "data": {
      "text/plain": [
       "array([[10, 10, 10],\n",
       "       [10, 10, 10],\n",
       "       [10, 10, 10]])"
      ]
     },
     "execution_count": 4,
     "metadata": {},
     "output_type": "execute_result"
    }
   ],
   "source": [
    "arr1 + arr2"
   ]
  },
  {
   "cell_type": "code",
   "execution_count": 5,
   "id": "12840b95",
   "metadata": {},
   "outputs": [
    {
     "data": {
      "text/plain": [
       "array([[ 9, 16, 21],\n",
       "       [24, 25, 24],\n",
       "       [21, 16,  9]])"
      ]
     },
     "execution_count": 5,
     "metadata": {},
     "output_type": "execute_result"
    }
   ],
   "source": [
    "arr1*arr2"
   ]
  },
  {
   "cell_type": "code",
   "execution_count": 6,
   "id": "bf82f1ce",
   "metadata": {},
   "outputs": [
    {
     "data": {
      "text/plain": [
       "array([[1, 2, 3],\n",
       "       [4, 5, 6],\n",
       "       [7, 8, 9]])"
      ]
     },
     "execution_count": 6,
     "metadata": {},
     "output_type": "execute_result"
    }
   ],
   "source": [
    "arr1"
   ]
  },
  {
   "cell_type": "code",
   "execution_count": 7,
   "id": "d17fbdc5",
   "metadata": {},
   "outputs": [
    {
     "data": {
      "text/plain": [
       "array([[9, 8, 7],\n",
       "       [6, 5, 4],\n",
       "       [3, 2, 1]])"
      ]
     },
     "execution_count": 7,
     "metadata": {},
     "output_type": "execute_result"
    }
   ],
   "source": [
    "arr2"
   ]
  },
  {
   "cell_type": "code",
   "execution_count": 8,
   "id": "7ffa704b",
   "metadata": {},
   "outputs": [
    {
     "data": {
      "text/plain": [
       "array([[ 30,  24,  18],\n",
       "       [ 84,  69,  54],\n",
       "       [138, 114,  90]])"
      ]
     },
     "execution_count": 8,
     "metadata": {},
     "output_type": "execute_result"
    }
   ],
   "source": [
    "arr1.dot(arr2)"
   ]
  },
  {
   "cell_type": "code",
   "execution_count": 9,
   "id": "7ff0a722",
   "metadata": {},
   "outputs": [
    {
     "data": {
      "text/plain": [
       "array([[ 90, 114, 138],\n",
       "       [ 54,  69,  84],\n",
       "       [ 18,  24,  30]])"
      ]
     },
     "execution_count": 9,
     "metadata": {},
     "output_type": "execute_result"
    }
   ],
   "source": [
    "arr2.dot(arr1)"
   ]
  },
  {
   "cell_type": "code",
   "execution_count": 12,
   "id": "65f81f60",
   "metadata": {},
   "outputs": [],
   "source": [
    "arr = np.array([1,2,3,4,5])"
   ]
  },
  {
   "cell_type": "code",
   "execution_count": 16,
   "id": "a7fe9f47",
   "metadata": {},
   "outputs": [
    {
     "data": {
      "text/plain": [
       "array([3])"
      ]
     },
     "execution_count": 16,
     "metadata": {},
     "output_type": "execute_result"
    }
   ],
   "source": [
    "arr[2:-2]"
   ]
  },
  {
   "cell_type": "code",
   "execution_count": 27,
   "id": "a7b61d52",
   "metadata": {},
   "outputs": [
    {
     "data": {
      "text/plain": [
       "array([[1, 2, 3],\n",
       "       [4, 5, 6]])"
      ]
     },
     "execution_count": 27,
     "metadata": {},
     "output_type": "execute_result"
    }
   ],
   "source": [
    "arr1[ :2, : ]"
   ]
  },
  {
   "cell_type": "markdown",
   "id": "12d1411e",
   "metadata": {},
   "source": [
    "## Sorting"
   ]
  },
  {
   "cell_type": "code",
   "execution_count": 29,
   "id": "bbcf1541",
   "metadata": {},
   "outputs": [],
   "source": [
    "arr = np.array([[7,3,6,8,4],[7,2,9,8,6],[5,4,3,2,1]])"
   ]
  },
  {
   "cell_type": "code",
   "execution_count": 30,
   "id": "59de8d96",
   "metadata": {},
   "outputs": [
    {
     "data": {
      "text/plain": [
       "array([[7, 3, 6, 8, 4],\n",
       "       [7, 2, 9, 8, 6],\n",
       "       [5, 4, 3, 2, 1]])"
      ]
     },
     "execution_count": 30,
     "metadata": {},
     "output_type": "execute_result"
    }
   ],
   "source": [
    "arr"
   ]
  },
  {
   "cell_type": "code",
   "execution_count": 31,
   "id": "29f59f53",
   "metadata": {},
   "outputs": [
    {
     "data": {
      "text/plain": [
       "array([[3, 4, 6, 7, 8],\n",
       "       [2, 6, 7, 8, 9],\n",
       "       [1, 2, 3, 4, 5]])"
      ]
     },
     "execution_count": 31,
     "metadata": {},
     "output_type": "execute_result"
    }
   ],
   "source": [
    "np.sort(arr,axis = 1, kind = 'mergesort') #row-wise sort"
   ]
  },
  {
   "cell_type": "code",
   "execution_count": 32,
   "id": "fa3f0c37",
   "metadata": {},
   "outputs": [
    {
     "data": {
      "text/plain": [
       "array([[5, 2, 3, 2, 1],\n",
       "       [7, 3, 6, 8, 4],\n",
       "       [7, 4, 9, 8, 6]])"
      ]
     },
     "execution_count": 32,
     "metadata": {},
     "output_type": "execute_result"
    }
   ],
   "source": [
    "np.sort(arr, axis = 0, kind = 'heapsort') #column-wise sort"
   ]
  },
  {
   "cell_type": "code",
   "execution_count": 33,
   "id": "e44fe078",
   "metadata": {},
   "outputs": [
    {
     "data": {
      "text/plain": [
       "array([[3, 4, 6, 7, 8],\n",
       "       [2, 6, 7, 8, 9],\n",
       "       [1, 2, 3, 4, 5]])"
      ]
     },
     "execution_count": 33,
     "metadata": {},
     "output_type": "execute_result"
    }
   ],
   "source": [
    "np.sort(arr, kind = 'heapsort') #default = row-wise sort"
   ]
  },
  {
   "cell_type": "markdown",
   "id": "da7a702c",
   "metadata": {},
   "source": [
    "## Merging arrays"
   ]
  },
  {
   "cell_type": "code",
   "execution_count": 36,
   "id": "a78e54ca",
   "metadata": {},
   "outputs": [],
   "source": [
    "arr1 = np.array([[1,2,3,4],\n",
    "                [5,6,7,8]])\n",
    "\n",
    "arr2 = np.array([[8,7,6,5],\n",
    "                [4,3,2,1]])"
   ]
  },
  {
   "cell_type": "code",
   "execution_count": 37,
   "id": "2bfba355",
   "metadata": {},
   "outputs": [
    {
     "data": {
      "text/plain": [
       "array([[1, 2, 3, 4],\n",
       "       [5, 6, 7, 8]])"
      ]
     },
     "execution_count": 37,
     "metadata": {},
     "output_type": "execute_result"
    }
   ],
   "source": [
    "arr1"
   ]
  },
  {
   "cell_type": "code",
   "execution_count": 38,
   "id": "a189efe2",
   "metadata": {},
   "outputs": [
    {
     "data": {
      "text/plain": [
       "array([[8, 7, 6, 5],\n",
       "       [4, 3, 2, 1]])"
      ]
     },
     "execution_count": 38,
     "metadata": {},
     "output_type": "execute_result"
    }
   ],
   "source": [
    "arr2"
   ]
  },
  {
   "cell_type": "code",
   "execution_count": 39,
   "id": "7ec18fb7",
   "metadata": {},
   "outputs": [
    {
     "data": {
      "text/plain": [
       "array([[1, 2, 3, 4],\n",
       "       [5, 6, 7, 8],\n",
       "       [8, 7, 6, 5],\n",
       "       [4, 3, 2, 1]])"
      ]
     },
     "execution_count": 39,
     "metadata": {},
     "output_type": "execute_result"
    }
   ],
   "source": [
    "np.vstack((arr1,arr2)) #vertically stacking"
   ]
  },
  {
   "cell_type": "code",
   "execution_count": 40,
   "id": "d6bd2b3b",
   "metadata": {},
   "outputs": [
    {
     "data": {
      "text/plain": [
       "array([[1, 2, 3, 4, 8, 7, 6, 5],\n",
       "       [5, 6, 7, 8, 4, 3, 2, 1]])"
      ]
     },
     "execution_count": 40,
     "metadata": {},
     "output_type": "execute_result"
    }
   ],
   "source": [
    "np.hstack((arr1,arr2)) #horizontally stacking"
   ]
  },
  {
   "cell_type": "code",
   "execution_count": 42,
   "id": "c414a4dc",
   "metadata": {},
   "outputs": [
    {
     "data": {
      "text/plain": [
       "array([[1, 2, 3, 4, 8, 7, 6, 5],\n",
       "       [5, 6, 7, 8, 4, 3, 2, 1]])"
      ]
     },
     "execution_count": 42,
     "metadata": {},
     "output_type": "execute_result"
    }
   ],
   "source": [
    "np.concatenate((arr1,arr2), axis = 1) #horizontally stacking"
   ]
  },
  {
   "cell_type": "code",
   "execution_count": 47,
   "id": "5f49d6ef",
   "metadata": {},
   "outputs": [],
   "source": [
    "arr = np.concatenate((arr1,arr2), axis = 0) #vertically stacking"
   ]
  },
  {
   "cell_type": "code",
   "execution_count": 48,
   "id": "2471fa3c",
   "metadata": {},
   "outputs": [
    {
     "data": {
      "text/plain": [
       "array([[1, 2, 3, 4],\n",
       "       [5, 6, 7, 8],\n",
       "       [8, 7, 6, 5],\n",
       "       [4, 3, 2, 1]])"
      ]
     },
     "execution_count": 48,
     "metadata": {},
     "output_type": "execute_result"
    }
   ],
   "source": [
    "arr"
   ]
  },
  {
   "cell_type": "code",
   "execution_count": 46,
   "id": "a4ac3b20",
   "metadata": {},
   "outputs": [
    {
     "data": {
      "text/plain": [
       "[array([[1, 2],\n",
       "        [5, 6],\n",
       "        [8, 7],\n",
       "        [4, 3]]),\n",
       " array([[3, 4],\n",
       "        [7, 8],\n",
       "        [6, 5],\n",
       "        [2, 1]])]"
      ]
     },
     "execution_count": 46,
     "metadata": {},
     "output_type": "execute_result"
    }
   ],
   "source": [
    "np.hsplit(arr,2) # horizontal split"
   ]
  },
  {
   "cell_type": "code",
   "execution_count": 49,
   "id": "4e18d560",
   "metadata": {},
   "outputs": [
    {
     "data": {
      "text/plain": [
       "[array([[1, 2, 3, 4],\n",
       "        [5, 6, 7, 8]]),\n",
       " array([[8, 7, 6, 5],\n",
       "        [4, 3, 2, 1]])]"
      ]
     },
     "execution_count": 49,
     "metadata": {},
     "output_type": "execute_result"
    }
   ],
   "source": [
    "np.vsplit(arr,2) #vertical split"
   ]
  },
  {
   "cell_type": "markdown",
   "id": "fb6aa637",
   "metadata": {},
   "source": [
    "## Arrays Slicing - DAP"
   ]
  },
  {
   "cell_type": "code",
   "execution_count": 53,
   "id": "089f2468",
   "metadata": {},
   "outputs": [],
   "source": [
    "arr = np.array([1,2,3,4,5,6,7,8])"
   ]
  },
  {
   "cell_type": "code",
   "execution_count": 54,
   "id": "8a97471f",
   "metadata": {},
   "outputs": [
    {
     "data": {
      "text/plain": [
       "array([1, 2, 3, 4, 5, 6, 7, 8])"
      ]
     },
     "execution_count": 54,
     "metadata": {},
     "output_type": "execute_result"
    }
   ],
   "source": [
    "arr"
   ]
  },
  {
   "cell_type": "code",
   "execution_count": 56,
   "id": "c66dd90f",
   "metadata": {},
   "outputs": [
    {
     "data": {
      "text/plain": [
       "array([4, 5, 6, 7, 8])"
      ]
     },
     "execution_count": 56,
     "metadata": {},
     "output_type": "execute_result"
    }
   ],
   "source": [
    "arr[3: ]"
   ]
  },
  {
   "cell_type": "code",
   "execution_count": 57,
   "id": "cc19c223",
   "metadata": {},
   "outputs": [
    {
     "data": {
      "text/plain": [
       "array([1, 2, 3, 4, 5])"
      ]
     },
     "execution_count": 57,
     "metadata": {},
     "output_type": "execute_result"
    }
   ],
   "source": [
    "arr[ :-3]"
   ]
  },
  {
   "cell_type": "code",
   "execution_count": 58,
   "id": "26c87ed2",
   "metadata": {},
   "outputs": [],
   "source": [
    "arr= np.array([[1,2,3,4],[5,6,7,8],[8,7,6,5],[4,3,2,1]])"
   ]
  },
  {
   "cell_type": "code",
   "execution_count": 59,
   "id": "a6e090ff",
   "metadata": {},
   "outputs": [
    {
     "data": {
      "text/plain": [
       "array([[1, 2, 3, 4],\n",
       "       [5, 6, 7, 8],\n",
       "       [8, 7, 6, 5],\n",
       "       [4, 3, 2, 1]])"
      ]
     },
     "execution_count": 59,
     "metadata": {},
     "output_type": "execute_result"
    }
   ],
   "source": [
    "arr"
   ]
  },
  {
   "cell_type": "code",
   "execution_count": 65,
   "id": "e1a36dbe",
   "metadata": {},
   "outputs": [
    {
     "data": {
      "text/plain": [
       "array([[8, 7, 6, 5],\n",
       "       [4, 3, 2, 1]])"
      ]
     },
     "execution_count": 65,
     "metadata": {},
     "output_type": "execute_result"
    }
   ],
   "source": [
    "arr[2: , : ]"
   ]
  },
  {
   "cell_type": "code",
   "execution_count": 67,
   "id": "d7796d2a",
   "metadata": {},
   "outputs": [
    {
     "data": {
      "text/plain": [
       "6"
      ]
     },
     "execution_count": 67,
     "metadata": {},
     "output_type": "execute_result"
    }
   ],
   "source": [
    "arr[2 , 2]"
   ]
  },
  {
   "cell_type": "markdown",
   "id": "7837ca06",
   "metadata": {},
   "source": [
    "## Automating using Numpy"
   ]
  },
  {
   "cell_type": "code",
   "execution_count": 68,
   "id": "696728b0",
   "metadata": {},
   "outputs": [],
   "source": [
    "lst = [1,2,3,4,5,6,7,8,9,10]"
   ]
  },
  {
   "cell_type": "code",
   "execution_count": 69,
   "id": "4fe7ec36",
   "metadata": {},
   "outputs": [
    {
     "name": "stdout",
     "output_type": "stream",
     "text": [
      "5\n"
     ]
    }
   ],
   "source": [
    "total =0\n",
    "for i in lst:\n",
    "    if(i>5):\n",
    "        total +=1\n",
    "print(total)"
   ]
  },
  {
   "cell_type": "code",
   "execution_count": 70,
   "id": "b0232726",
   "metadata": {},
   "outputs": [],
   "source": [
    "lst = np.array([1,2,3,4,5,6,7,8,9,10])"
   ]
  },
  {
   "cell_type": "code",
   "execution_count": 72,
   "id": "d4a52357",
   "metadata": {},
   "outputs": [
    {
     "data": {
      "text/plain": [
       "array([ 6,  7,  8,  9, 10])"
      ]
     },
     "execution_count": 72,
     "metadata": {},
     "output_type": "execute_result"
    }
   ],
   "source": [
    "lst[lst > 5]"
   ]
  },
  {
   "cell_type": "code",
   "execution_count": 73,
   "id": "6f189650",
   "metadata": {},
   "outputs": [
    {
     "data": {
      "text/plain": [
       "5"
      ]
     },
     "execution_count": 73,
     "metadata": {},
     "output_type": "execute_result"
    }
   ],
   "source": [
    "len(lst[lst > 5])"
   ]
  },
  {
   "cell_type": "code",
   "execution_count": 74,
   "id": "962de735",
   "metadata": {},
   "outputs": [
    {
     "name": "stdout",
     "output_type": "stream",
     "text": [
      "[ 6  7  8  9 10]\n"
     ]
    }
   ],
   "source": [
    "print(lst[lst > 5])"
   ]
  },
  {
   "cell_type": "code",
   "execution_count": 76,
   "id": "d4693b87",
   "metadata": {},
   "outputs": [
    {
     "name": "stdout",
     "output_type": "stream",
     "text": [
      "[3 6 9]\n"
     ]
    }
   ],
   "source": [
    "print(lst[lst % 3 == 0])"
   ]
  },
  {
   "cell_type": "code",
   "execution_count": 77,
   "id": "59334c78",
   "metadata": {},
   "outputs": [
    {
     "data": {
      "text/plain": [
       "dtype('int32')"
      ]
     },
     "execution_count": 77,
     "metadata": {},
     "output_type": "execute_result"
    }
   ],
   "source": [
    "arr.dtype"
   ]
  },
  {
   "cell_type": "code",
   "execution_count": 80,
   "id": "2a1bd12f",
   "metadata": {},
   "outputs": [
    {
     "name": "stdout",
     "output_type": "stream",
     "text": [
      "[array([1, 2, 3, 4]), array([5, 6, 7, 8]), array([8, 7, 6, 5]), array([4, 3, 2, 1])]\n"
     ]
    }
   ],
   "source": [
    "print(lst)"
   ]
  },
  {
   "cell_type": "code",
   "execution_count": 84,
   "id": "63a29a20",
   "metadata": {},
   "outputs": [
    {
     "name": "stdout",
     "output_type": "stream",
     "text": [
      "<class 'list'>\n"
     ]
    }
   ],
   "source": [
    "print(type(lst))"
   ]
  },
  {
   "cell_type": "code",
   "execution_count": 90,
   "id": "d526ee4c",
   "metadata": {},
   "outputs": [
    {
     "name": "stdout",
     "output_type": "stream",
     "text": [
      "[[5 5 5 5 5 5 5 5 5 5 5 5]\n",
      " [5 5 5 5 5 5 5 5 5 5 5 5]\n",
      " [5 5 5 5 5 5 5 5 5 5 5 5]\n",
      " [5 5 5 5 5 5 5 5 5 5 5 5]\n",
      " [5 5 5 5 5 5 5 5 5 5 5 5]\n",
      " [5 5 5 5 5 5 5 5 5 5 5 5]\n",
      " [5 5 5 5 5 5 5 5 5 5 5 5]\n",
      " [5 5 5 5 5 5 5 5 5 5 5 5]\n",
      " [5 5 5 5 5 5 5 5 5 5 5 5]\n",
      " [5 5 5 5 5 5 5 5 5 5 5 5]\n",
      " [5 5 5 5 5 5 5 5 5 5 5 5]]\n"
     ]
    }
   ],
   "source": [
    "import numpy as np\n",
    "\n",
    "array = np.full((11, 12),5)\n",
    "print(array)"
   ]
  },
  {
   "cell_type": "code",
   "execution_count": 91,
   "id": "2fe1b5ab",
   "metadata": {},
   "outputs": [
    {
     "name": "stdout",
     "output_type": "stream",
     "text": [
      "144\n"
     ]
    }
   ],
   "source": [
    " c = np.array([6, 7, 5, 8])\n",
    "\n",
    "d = np.array([4, 3, 7, 8])\n",
    "\n",
    "pro = c.dot(d)  \n",
    "\n",
    "print(pro)"
   ]
  },
  {
   "cell_type": "code",
   "execution_count": 94,
   "id": "bf15c0cc",
   "metadata": {},
   "outputs": [
    {
     "data": {
      "text/plain": [
       "array([[1, 2, 3, 4],\n",
       "       [5, 6, 7, 8],\n",
       "       [8, 7, 6, 5],\n",
       "       [4, 3, 2, 1]])"
      ]
     },
     "execution_count": 94,
     "metadata": {},
     "output_type": "execute_result"
    }
   ],
   "source": [
    "arr"
   ]
  },
  {
   "cell_type": "code",
   "execution_count": 97,
   "id": "2324575d",
   "metadata": {
    "scrolled": true
   },
   "outputs": [
    {
     "data": {
      "text/plain": [
       "array([[1, 5, 8, 4],\n",
       "       [2, 6, 7, 3],\n",
       "       [3, 7, 6, 2],\n",
       "       [4, 8, 5, 1]])"
      ]
     },
     "execution_count": 97,
     "metadata": {},
     "output_type": "execute_result"
    }
   ],
   "source": [
    "arr.transpose()"
   ]
  },
  {
   "cell_type": "code",
   "execution_count": 100,
   "id": "77b4f31b",
   "metadata": {},
   "outputs": [
    {
     "data": {
      "text/plain": [
       "array([[4, 3, 2, 1],\n",
       "       [8, 7, 6, 5],\n",
       "       [5, 6, 7, 8],\n",
       "       [1, 2, 3, 4]])"
      ]
     },
     "execution_count": 100,
     "metadata": {},
     "output_type": "execute_result"
    }
   ],
   "source": [
    "np.flipud(arr)"
   ]
  },
  {
   "cell_type": "code",
   "execution_count": 102,
   "id": "71cb3947",
   "metadata": {},
   "outputs": [
    {
     "data": {
      "text/plain": [
       "16"
      ]
     },
     "execution_count": 102,
     "metadata": {},
     "output_type": "execute_result"
    }
   ],
   "source": [
    "arr.size"
   ]
  },
  {
   "cell_type": "code",
   "execution_count": 109,
   "id": "0bdc8f0a",
   "metadata": {},
   "outputs": [
    {
     "data": {
      "text/plain": [
       "array([8, 7, 6, 5])"
      ]
     },
     "execution_count": 109,
     "metadata": {},
     "output_type": "execute_result"
    }
   ],
   "source": [
    "np.sort(c)[::-1]"
   ]
  },
  {
   "cell_type": "code",
   "execution_count": 112,
   "id": "6a3c5865",
   "metadata": {},
   "outputs": [
    {
     "name": "stdout",
     "output_type": "stream",
     "text": [
      "[2, 5, 6, 8, 3]\n"
     ]
    }
   ],
   "source": [
    "array_1 = [1,2,3,5,4,6,7,8,5,3,2]\n",
    "print(array_1[1::2])"
   ]
  },
  {
   "cell_type": "code",
   "execution_count": 120,
   "id": "ea6e02de",
   "metadata": {},
   "outputs": [
    {
     "name": "stdout",
     "output_type": "stream",
     "text": [
      "[[1 5]\n",
      " [2 6]\n",
      " [3 7]\n",
      " [4 8]]\n"
     ]
    }
   ],
   "source": [
    " import numpy as np\n",
    "\n",
    "array_1 = np.array([1, 2, 3, 4])\n",
    "\n",
    "array_2 = np.array([5, 6, 7, 8])\n",
    "\n",
    "array_new = np.stack((array_1, array_2),axis =1)\n",
    "\n",
    "print(array_new)"
   ]
  },
  {
   "cell_type": "code",
   "execution_count": 133,
   "id": "2f167804",
   "metadata": {},
   "outputs": [
    {
     "data": {
      "text/plain": [
       "array([[1, 2],\n",
       "       [3, 4],\n",
       "       [5, 6]])"
      ]
     },
     "execution_count": 133,
     "metadata": {},
     "output_type": "execute_result"
    }
   ],
   "source": [
    "a = np.array([[1, 2], [3, 4]])\n",
    "\n",
    "b = np.array([[5, 6]])\n",
    "\n",
    "b= np.reshape(b,(2,1))\n",
    "np.concatenate((a, b), axis=1)"
   ]
  },
  {
   "cell_type": "code",
   "execution_count": 132,
   "id": "c549e34a",
   "metadata": {},
   "outputs": [
    {
     "data": {
      "text/plain": [
       "array([[5, 6]])"
      ]
     },
     "execution_count": 132,
     "metadata": {},
     "output_type": "execute_result"
    }
   ],
   "source": [
    "b"
   ]
  },
  {
   "cell_type": "code",
   "execution_count": 139,
   "id": "9e2f8b5d",
   "metadata": {},
   "outputs": [
    {
     "name": "stdout",
     "output_type": "stream",
     "text": [
      "[[ 1  2  3  4  5  6  7  8  9 10]\n",
      " [20 30 40 50 60  9  8  7  6  5]]\n"
     ]
    }
   ],
   "source": [
    "array1 = np.array([[1, 2, 3, 4, 5],[20,30,40,50,60]])\n",
    "\n",
    "array2 = np.array([[6, 7, 8, 9, 10],[9,8,7,6,5]])\n",
    "\n",
    "array1 = np.column_stack([array1, array2])\n",
    "\n",
    "print(array1)"
   ]
  },
  {
   "cell_type": "code",
   "execution_count": 136,
   "id": "c4c2d6b5",
   "metadata": {},
   "outputs": [
    {
     "data": {
      "text/plain": [
       "array([[ 1,  2,  3,  4,  5],\n",
       "       [20, 30, 40, 50, 60]])"
      ]
     },
     "execution_count": 136,
     "metadata": {},
     "output_type": "execute_result"
    }
   ],
   "source": [
    "array1"
   ]
  },
  {
   "cell_type": "code",
   "execution_count": 137,
   "id": "b955dbb3",
   "metadata": {},
   "outputs": [
    {
     "data": {
      "text/plain": [
       "array([[ 6,  7,  8,  9, 10],\n",
       "       [ 9,  8,  7,  6,  5]])"
      ]
     },
     "execution_count": 137,
     "metadata": {},
     "output_type": "execute_result"
    }
   ],
   "source": [
    "array2"
   ]
  },
  {
   "cell_type": "code",
   "execution_count": 140,
   "id": "3885a938",
   "metadata": {},
   "outputs": [
    {
     "name": "stdout",
     "output_type": "stream",
     "text": [
      "[6 7 8 8 7 6]\n"
     ]
    }
   ],
   "source": [
    "print(arr[arr>5])"
   ]
  },
  {
   "cell_type": "code",
   "execution_count": null,
   "id": "2a7922d8",
   "metadata": {},
   "outputs": [],
   "source": []
  }
 ],
 "metadata": {
  "kernelspec": {
   "display_name": "Python 3 (ipykernel)",
   "language": "python",
   "name": "python3"
  },
  "language_info": {
   "codemirror_mode": {
    "name": "ipython",
    "version": 3
   },
   "file_extension": ".py",
   "mimetype": "text/x-python",
   "name": "python",
   "nbconvert_exporter": "python",
   "pygments_lexer": "ipython3",
   "version": "3.11.5"
  }
 },
 "nbformat": 4,
 "nbformat_minor": 5
}
