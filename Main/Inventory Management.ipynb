{
 "cells": [
  {
   "cell_type": "code",
   "execution_count": 1,
   "id": "054e6cc2",
   "metadata": {},
   "outputs": [],
   "source": [
    "fd = open(\"inventory.txt\",'w')\n",
    "fd.write(\"1,5Star,5,100\\n2,Milky Bar,10,100 \\n3,Cake,100,100\\n4,Candy,1,100\")\n",
    "fd.close()"
   ]
  },
  {
   "cell_type": "markdown",
   "id": "ed963bee",
   "metadata": {},
   "source": [
    "## Product Details\n",
    "\n",
    "1. Product Id\n",
    "2. Name of product\n",
    "3. Price of product\n",
    "4. Quantity"
   ]
  },
  {
   "cell_type": "code",
   "execution_count": 2,
   "id": "a48bf687",
   "metadata": {},
   "outputs": [],
   "source": [
    "fd = open(\"inventory.txt\",'r')\n",
    "txt = fd.read()\n",
    "fd.close()"
   ]
  },
  {
   "cell_type": "code",
   "execution_count": 3,
   "id": "8df8adfe",
   "metadata": {},
   "outputs": [
    {
     "data": {
      "text/plain": [
       "'1,5Star,5,100\\n2,Milky Bar,10,100 \\n3,Cake,100,100\\n4,Candy,1,100'"
      ]
     },
     "execution_count": 3,
     "metadata": {},
     "output_type": "execute_result"
    }
   ],
   "source": [
    "txt"
   ]
  },
  {
   "cell_type": "code",
   "execution_count": 4,
   "id": "2930da4f",
   "metadata": {},
   "outputs": [
    {
     "data": {
      "text/plain": [
       "['1,5Star,5,100', '2,Milky Bar,10,100 ', '3,Cake,100,100', '4,Candy,1,100']"
      ]
     },
     "execution_count": 4,
     "metadata": {},
     "output_type": "execute_result"
    }
   ],
   "source": [
    "txt.split('\\n')"
   ]
  },
  {
   "cell_type": "code",
   "execution_count": 5,
   "id": "1b116efd",
   "metadata": {},
   "outputs": [
    {
     "data": {
      "text/plain": [
       "4"
      ]
     },
     "execution_count": 5,
     "metadata": {},
     "output_type": "execute_result"
    }
   ],
   "source": [
    "len(txt.split('\\n'))"
   ]
  },
  {
   "cell_type": "code",
   "execution_count": 6,
   "id": "8105a051",
   "metadata": {},
   "outputs": [],
   "source": [
    "fd = open(\"inventory.txt\",'r')\n",
    "\n",
    "products = fd.read().split('\\n')\n",
    "\n",
    "fd.close()"
   ]
  },
  {
   "cell_type": "code",
   "execution_count": 7,
   "id": "db4e58ec",
   "metadata": {},
   "outputs": [
    {
     "data": {
      "text/plain": [
       "['1,5Star,5,100', '2,Milky Bar,10,100 ', '3,Cake,100,100', '4,Candy,1,100']"
      ]
     },
     "execution_count": 7,
     "metadata": {},
     "output_type": "execute_result"
    }
   ],
   "source": [
    "products"
   ]
  },
  {
   "cell_type": "code",
   "execution_count": 8,
   "id": "78a6f7c9",
   "metadata": {
    "scrolled": true
   },
   "outputs": [
    {
     "name": "stdout",
     "output_type": "stream",
     "text": [
      "1,5Star,5,100\n",
      "2,Milky Bar,10,100 \n",
      "3,Cake,100,100\n",
      "4,Candy,1,100\n"
     ]
    }
   ],
   "source": [
    "for product in products:\n",
    "    print(product)"
   ]
  },
  {
   "cell_type": "code",
   "execution_count": 9,
   "id": "10412c6a",
   "metadata": {},
   "outputs": [
    {
     "name": "stdout",
     "output_type": "stream",
     "text": [
      "1\n",
      "2\n",
      "3\n",
      "4\n"
     ]
    }
   ],
   "source": [
    "for product in products:\n",
    "    print(product.split(',')[0])"
   ]
  },
  {
   "cell_type": "code",
   "execution_count": 30,
   "id": "7e356ee9",
   "metadata": {},
   "outputs": [
    {
     "name": "stdout",
     "output_type": "stream",
     "text": [
      "Enter product ID:3\n",
      "Enter product quantity:4\n",
      "------------------------------\n",
      "Product ID       : 3\n",
      "Product Name     : Cake\n",
      "Quantity Ordered : 4\n",
      "------------------------------\n",
      "Billing Amount   : 400\n"
     ]
    }
   ],
   "source": [
    "ui_prod_id = input(\"Enter product ID:\")\n",
    "ui_quan = int(input(\"Enter product quantity:\"))\n",
    "\n",
    "found = False\n",
    "\n",
    "for i,product in enumerate(products):\n",
    "    product_details = product.split(',')\n",
    "    product_id = product_details[0]\n",
    "    product_name = product_details[1]\n",
    "    product_price = int(product_details[2])\n",
    "    product_quan = int(product_details[3])\n",
    "    \n",
    "    if(ui_prod_id == product_id):\n",
    "        found = True\n",
    "        if(product_quan > ui_quan):\n",
    "            total = product_price*ui_quan\n",
    "            print(\"-\"*30)\n",
    "            print(f\"Product ID       : {product_id}\")\n",
    "            print(f\"Product Name     : {product_name}\")\n",
    "            print(f\"Quantity Ordered : {ui_quan}\")\n",
    "            print(\"-\"*30)\n",
    "            print(f\"Billing Amount   : {total}\")\n",
    "\n",
    "            product_details[3] = str(product_quan - ui_quan)\n",
    "            products[i] = ','.join(product_details)\n",
    "            \n",
    "            break\n",
    "        else:\n",
    "            print(\"Not enough products\")\n",
    "\n",
    "if not found:\n",
    "    print(\"Product not found\")"
   ]
  },
  {
   "cell_type": "code",
   "execution_count": 31,
   "id": "24bbe407",
   "metadata": {},
   "outputs": [
    {
     "name": "stdout",
     "output_type": "stream",
     "text": [
      "['1,5Star,5,100', '2,Milky Bar,10,91', '3,Cake,100,89', '4,Candy,1,100']\n"
     ]
    }
   ],
   "source": [
    "print(products)"
   ]
  },
  {
   "cell_type": "code",
   "execution_count": 32,
   "id": "2c3ad7ba",
   "metadata": {},
   "outputs": [],
   "source": [
    "fd = open(\"inventory.txt\",'w')\n",
    "\n",
    "for product in products:\n",
    "    fd.write(product + '\\n')\n",
    "    \n",
    "fd.close()"
   ]
  },
  {
   "cell_type": "code",
   "execution_count": 33,
   "id": "dff63741",
   "metadata": {},
   "outputs": [
    {
     "name": "stdout",
     "output_type": "stream",
     "text": [
      "1,5Star,5,100\n",
      "2,Milky Bar,10,91\n",
      "3,Cake,100,89\n",
      "4,Candy,1,100\n",
      "\n"
     ]
    }
   ],
   "source": [
    "fd = open(\"inventory.txt\",'r')\n",
    "txt = fd.read()\n",
    "print(txt)\n",
    "fd.close()"
   ]
  },
  {
   "cell_type": "markdown",
   "id": "b65f1664",
   "metadata": {},
   "source": [
    "## Generating Sales"
   ]
  },
  {
   "cell_type": "code",
   "execution_count": 53,
   "id": "0c8b24b0",
   "metadata": {},
   "outputs": [
    {
     "name": "stdout",
     "output_type": "stream",
     "text": [
      "Enter name: wer\n",
      "Enter phone no. : 12431324\n",
      "Enter email: agfdgfads\n",
      "Enter product ID:1\n",
      "Enter product quantity:3\n",
      "------------------------------\n",
      "Product ID       : 1\n",
      "Product Name     : 5Star\n",
      "Quantity Ordered : 3\n",
      "------------------------------\n",
      "Billing Amount   : 15\n"
     ]
    }
   ],
   "source": [
    "fd = open(\"inventory.txt\",'r')\n",
    "products = fd.read().split('\\n')\n",
    "fd.close()\n",
    "\n",
    "\n",
    "ui_name    = input(\"Enter name: \")\n",
    "ui_Phone   = input(\"Enter phone no. : \")\n",
    "ui_mail    = input(\"Enter email: \")\n",
    "ui_prod_id = input(\"Enter product ID:\")\n",
    "ui_quan    = int(input(\"Enter product quantity:\"))\n",
    "\n",
    "found = False\n",
    "\n",
    "for i,product in enumerate(products):\n",
    "    product_details = product.split(',')\n",
    "    product_id      = product_details[0]\n",
    "    product_name    = product_details[1]\n",
    "    product_price   = int(product_details[2])\n",
    "    product_quan    = int(product_details[3])\n",
    "    \n",
    "    if(ui_prod_id == product_id):\n",
    "        found = True\n",
    "        if(product_quan > ui_quan):\n",
    "            total = product_price*ui_quan\n",
    "            print(\"-\"*30)\n",
    "            print(f\"Product ID       : {product_id}\")\n",
    "            print(f\"Product Name     : {product_name}\")\n",
    "            print(f\"Quantity Ordered : {ui_quan}\")\n",
    "            print(\"-\"*30)\n",
    "            print(f\"Billing Amount   : {total}\")\n",
    "\n",
    "            product_details[3] = str(product_quan - ui_quan)\n",
    "            products[i] = ','.join(product_details)\n",
    "            \n",
    "            fd = open(\"sales.txt\",'a')\n",
    "            sales_detail = ui_name +\",\"+ ui_Phone +\",\" + ui_mail + \",\" + ui_prod_id +\",\"+str(total) +\"\\n\" \n",
    "            fd.write(sales_detail)\n",
    "            fd.close()\n",
    "            break\n",
    "        else:\n",
    "            print(\"Not enough products\")\n",
    "\n",
    "if not found:\n",
    "    print(\"Product not found\")\n",
    "    \n",
    "\n",
    "    \n",
    "fd = open(\"inventory.txt\",'w')\n",
    "\n",
    "for product in products:\n",
    "    fd.write(product + '\\n')\n",
    "    \n",
    "fd.close()"
   ]
  },
  {
   "cell_type": "code",
   "execution_count": 54,
   "id": "9fe49b97",
   "metadata": {},
   "outputs": [
    {
     "name": "stdout",
     "output_type": "stream",
     "text": [
      "1,5Star,5,97\n",
      "2,Milky Bar,10,72\n",
      "3,Cake,100,89\n",
      "4,Candy,1,88\n",
      "\n"
     ]
    }
   ],
   "source": [
    "fd = open(\"inventory.txt\",'r')\n",
    "txt = fd.read()\n",
    "print(txt)\n",
    "fd.close()"
   ]
  },
  {
   "cell_type": "code",
   "execution_count": 55,
   "id": "29a81f82",
   "metadata": {},
   "outputs": [],
   "source": [
    "fd = open(\"sales.txt\",'r')\n",
    "txt = fd.read()\n",
    "fd.close()"
   ]
  },
  {
   "cell_type": "code",
   "execution_count": 56,
   "id": "3d1734de",
   "metadata": {},
   "outputs": [
    {
     "name": "stdout",
     "output_type": "stream",
     "text": [
      "2,3,2,2,40\n",
      "Vivek,12355,gmail.com,4,12\n",
      "wer,12431324,agfdgfads,1,15\n",
      "\n"
     ]
    }
   ],
   "source": [
    "print(txt)"
   ]
  },
  {
   "cell_type": "code",
   "execution_count": null,
   "id": "9ea4c230",
   "metadata": {},
   "outputs": [],
   "source": []
  }
 ],
 "metadata": {
  "kernelspec": {
   "display_name": "Python 3 (ipykernel)",
   "language": "python",
   "name": "python3"
  },
  "language_info": {
   "codemirror_mode": {
    "name": "ipython",
    "version": 3
   },
   "file_extension": ".py",
   "mimetype": "text/x-python",
   "name": "python",
   "nbconvert_exporter": "python",
   "pygments_lexer": "ipython3",
   "version": "3.11.5"
  }
 },
 "nbformat": 4,
 "nbformat_minor": 5
}
